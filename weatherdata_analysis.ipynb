{
 "cells": [
  {
   "cell_type": "code",
   "execution_count": null,
   "metadata": {},
   "outputs": [],
   "source": [
    "#importing libraries and data\n",
    "import pandas as pd\n",
    "daily = pd.read_csv('daily.csv')"
   ]
  },
  {
   "cell_type": "markdown",
   "metadata": {},
   "source": [
    "Our dataset also contains the weathercodes for each day, our European weeklong sample contains the following weathercodes."
   ]
  },
  {
   "cell_type": "code",
   "execution_count": null,
   "metadata": {
    "collapsed": true
   },
   "outputs": [],
   "source": [
    "weathercode_dict = {3:'\tMainly clear, partly cloudy, and overcast',95:'Thunderstorm: Slight or moderate',45:'Fog and depositing rime fog',61:'Rain: Slight, moderate and heavy intensity',80:'Rain showers: Slight, moderate, and violent'}\n",
    "#print(count(daily['weathercode']=='95' or daily['weathercode']=='96' or daily['weathercode']=='99'))\n",
    "count_table = daily['weathercode'].value_counts().rename_axis('weathercodes').reset_index(name='counts')\n",
    "print(count_table)\n",
    "count_table = count_table.replace({\"weathercodes\": weathercode_dict})\n",
    "print(count_table)\n"
   ]
  },
  {
   "cell_type": "markdown",
   "metadata": {},
   "source": []
  },
  {
   "cell_type": "code",
   "execution_count": null,
   "metadata": {},
   "outputs": [],
   "source": [
    ""
   ]
  }
 ],
 "metadata": {
  "kernelspec": {
   "display_name": "Python 2",
   "language": "python",
   "name": "python2"
  },
  "language_info": {
   "codemirror_mode": {
    "name": "ipython",
    "version": 2
   },
   "file_extension": ".py",
   "mimetype": "text/x-python",
   "name": "python",
   "nbconvert_exporter": "python",
   "pygments_lexer": "ipython2",
   "version": "2.7.6"
  }
 },
 "nbformat": 4,
 "nbformat_minor": 0
}
